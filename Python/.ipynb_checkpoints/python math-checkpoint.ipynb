{
 "cells": [
  {
   "cell_type": "markdown",
   "metadata": {},
   "source": [
    "# Maths\n",
    "\n",
    "## Operators\n",
    "\n",
    "- (+) --> Add\n",
    "- (-) --> Subs\n",
    "- (*) --> Product\n",
    "- (/) --> Divide\n",
    "- (%) --> Module\n",
    "- (**) --> Exp\n",
    "- (//) --> Division with decimal part truncated\n",
    "\n"
   ]
  },
  {
   "cell_type": "code",
   "execution_count": null,
   "metadata": {},
   "outputs": [],
   "source": [
    "# Example one\n",
    "\n",
    "print(\"Example One:\")\n",
    "number = 1 + 1\n",
    "print(number)"
   ]
  },
  {
   "cell_type": "code",
   "execution_count": null,
   "metadata": {},
   "outputs": [],
   "source": [
    "# Example two\n",
    "\n",
    "print(\"Example Two:\")\n",
    "number = 1 * 5\n",
    "print(number)"
   ]
  },
  {
   "cell_type": "code",
   "execution_count": null,
   "metadata": {},
   "outputs": [],
   "source": [
    "# Example Three\n",
    "\n",
    "print(\"Example Three:\")\n",
    "number = 2 / 1\n",
    "print(number)"
   ]
  },
  {
   "cell_type": "code",
   "execution_count": null,
   "metadata": {},
   "outputs": [],
   "source": [
    "# Example Four\n",
    "\n",
    "print(\"Example Four:\")\n",
    "number = 11 // 2\n",
    "print(number)"
   ]
  },
  {
   "cell_type": "code",
   "execution_count": null,
   "metadata": {},
   "outputs": [],
   "source": [
    "# Example Five\n",
    "\n",
    "print(\"Example Five:\")\n",
    "number = 5 ** 3\n",
    "print(number)"
   ]
  },
  {
   "cell_type": "markdown",
   "metadata": {},
   "source": [
    "# Math module\n",
    "\n",
    "You must import the math module: `import math`\n",
    "\n",
    "## Constants\n",
    "\n",
    "- Pi --> math.pi\n",
    "- Euler --> math.e\n",
    "\n",
    "## Functions\n",
    "\n",
    "- Floor --> math.floor\n",
    "- Ceil --> math.ceil\n",
    "- Factorial --> math.factorial\n",
    "\n",
    "## Power and Log\n",
    "\n",
    "- Exponential --> math.exp\n",
    "- Logarithm (any base) --> math.log(x, base)\n",
    "- Logarithm base10 --> math.log10(x)\n",
    "\n",
    "## Trigonometric\n",
    "\n",
    "Returns in radians\n",
    "\n",
    "- math.cos(x)\n",
    "- math.asin(x)\n",
    "- math.atan(x)\n",
    "\n"
   ]
  },
  {
   "cell_type": "code",
   "execution_count": null,
   "metadata": {},
   "outputs": [],
   "source": [
    "import math\n",
    "\n",
    "# Example Six\n",
    "\n",
    "print(\"Example six:\")\n",
    "number = math.pi\n",
    "print(number)"
   ]
  },
  {
   "cell_type": "code",
   "execution_count": null,
   "metadata": {},
   "outputs": [],
   "source": [
    "# Example Seven\n",
    "\n",
    "print(\"Example Seven:\")\n",
    "number = math.log(100, 10)\n",
    "print(number)"
   ]
  },
  {
   "cell_type": "code",
   "execution_count": null,
   "metadata": {},
   "outputs": [],
   "source": [
    "# Example Eight\n",
    "\n",
    "print(\"Example eight:\")\n",
    "number = math.cos(90)\n",
    "print(number)"
   ]
  },
  {
   "cell_type": "markdown",
   "metadata": {},
   "source": [
    "# Exercises\n",
    "\n",
    "1. There are 5280 feet in a mile. Write a Python statement that calculates and prints the number of feet in 131313 miles\n",
    "\n",
    "2. Write a Python statement that calculates and prints the number of seconds in 777 hours, 212121 minutes and 373737 seconds.\n",
    "\n",
    "3. The perimeter of a rectangle is `2w + 2h`, where _w_ and _h_ are the lengths of its sides. Write a Python statement that calculates and prints the length in inches of the perimeter of a rectangle with sides of length 4 and 7 inches.\n",
    "\n",
    "4. The area of a rectangle is `wh`, where _w_ and _h_ are the lengths of its sides. Note that the multiplication operation is not shown explicitly in this formula. This is standard practice in mathematics, but not in programming. Write a Python statement that calculates and prints the area in square inches of a rectangle with sides of length 4 and 7 inches.\n",
    "\n",
    "5. The circumference of a circle is `2πr` where _r_ is the radius of the circle. Write a Python statement that calculates and prints the circumference in inches of a circle whose radius is 8 inches.\n",
    "\n",
    "6. Given _p_ dollars, the future value of this money when compounded yearly at a rate of r percent interest for _y_ years is `p(1+0.01r)^y`. Write a Python statement that calculates and prints the value of 1000 dollars compounded at 7 percent interest for 10 years\n",
    "\n",
    "7. The distance between two points `(x0,y0)` and `(x1,y1)` is `sqrt{(x0-x1)^2 + (y0-y1)^2}}`. Write a Python statement that calculates and prints the distance between the points (2,2) and (5,6).\n",
    "\n"
   ]
  },
  {
   "cell_type": "code",
   "execution_count": null,
   "metadata": {},
   "outputs": [],
   "source": []
  }
 ],
 "metadata": {
  "kernelspec": {
   "display_name": "Python 3",
   "language": "python",
   "name": "python3"
  },
  "language_info": {
   "codemirror_mode": {
    "name": "ipython",
    "version": 3
   },
   "file_extension": ".py",
   "mimetype": "text/x-python",
   "name": "python",
   "nbconvert_exporter": "python",
   "pygments_lexer": "ipython3",
   "version": "3.6.6"
  }
 },
 "nbformat": 4,
 "nbformat_minor": 2
}
