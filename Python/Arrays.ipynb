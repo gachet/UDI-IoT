{
 "cells": [
  {
   "cell_type": "markdown",
   "metadata": {},
   "source": [
    "# Arrays and Matrices\n",
    "\n",
    "Python allows three different kinds of arrays\n",
    "\n",
    "- list: `[element_1, element_2, ... , element_n]`\n",
    "\n",
    "    A list is mutable. Elements inside a list can be repeated.\n",
    "\n",
    "- tuple: `(element_1, element_2, ..., element_n)`\n",
    "\n",
    "    A tuple is immutable. Elements inside tuple can be repeated\n",
    "    \n",
    "- dictionary: `{key_1: value_1, key_2: value_2, ... , key_n: value_n}`\n",
    "\n",
    "    A key-value pair array. Every value inside a dictionary can be accessed through its related key\n",
    "\n",
    "- set: `set([element_1, element_2, .... , element_n])`\n",
    "\n",
    "    A set is a collection of non-ordered unique elements\n",
    "    \n",
    "- Matrix: `[element_1, ..., element_n][element_1, ..., element_n]`\n",
    "\n",
    "    A matrix is implemented just as two or more list declarations."
   ]
  },
  {
   "cell_type": "markdown",
   "metadata": {},
   "source": [
    "## Lists"
   ]
  },
  {
   "cell_type": "code",
   "execution_count": null,
   "metadata": {},
   "outputs": [],
   "source": [
    "# Lists\n",
    "\n",
    "my_list = [1, 2, 3, 4]\n",
    "my_list"
   ]
  },
  {
   "cell_type": "code",
   "execution_count": null,
   "metadata": {},
   "outputs": [],
   "source": [
    "# Lists can also store strings\n",
    "\n",
    "my_list_str = ['a', 'b', 'c', 'd']\n",
    "my_list_str"
   ]
  },
  {
   "cell_type": "code",
   "execution_count": null,
   "metadata": {},
   "outputs": [],
   "source": [
    "# Adds a new element\n",
    "\n",
    "print('before:')\n",
    "print(my_list)\n",
    "my_list.append(5)\n",
    "print('after append:')\n",
    "print(my_list)"
   ]
  },
  {
   "cell_type": "code",
   "execution_count": null,
   "metadata": {},
   "outputs": [],
   "source": [
    "# Adds more elements\n",
    "\n",
    "my_list.append(6)\n",
    "my_list.append(5)\n",
    "my_list"
   ]
  },
  {
   "cell_type": "code",
   "execution_count": null,
   "metadata": {},
   "outputs": [],
   "source": [
    "# Access to elements inside the list\n",
    "\n",
    "element_1 = my_list[0]\n",
    "element_3 = my_list[2]\n",
    "\n",
    "print(element_1, element_3)"
   ]
  },
  {
   "cell_type": "code",
   "execution_count": null,
   "metadata": {},
   "outputs": [],
   "source": [
    "# Removes the first '5' in the list\n",
    "\n",
    "# remove() deletes the first occurence of the element set as input\n",
    "\n",
    "print(\"before: {}\".format(my_list))\n",
    "my_list.remove(5)\n",
    "print(\"After: {}\".format(my_list))"
   ]
  },
  {
   "cell_type": "code",
   "execution_count": null,
   "metadata": {},
   "outputs": [],
   "source": [
    "# Removes the third element in the list\n",
    "\n",
    "print(\"before: {}\".format(my_list))\n",
    "del my_list[2]\n",
    "print(\"After: {}\".format(my_list))"
   ]
  },
  {
   "cell_type": "code",
   "execution_count": null,
   "metadata": {},
   "outputs": [],
   "source": [
    "# Changes a specific value\n",
    "\n",
    "print(\"before: {}\".format(my_list))\n",
    "my_list[0] = 5\n",
    "print(\"after: {}\".format(my_list))"
   ]
  },
  {
   "cell_type": "code",
   "execution_count": null,
   "metadata": {},
   "outputs": [],
   "source": [
    "# Obtains the minimum in a list\n",
    "# Other available methods: sum(), max(), len(), \n",
    "\n",
    "min_n = min(my_list)\n",
    "min_n"
   ]
  },
  {
   "cell_type": "markdown",
   "metadata": {},
   "source": [
    "## Exercises\n",
    "\n",
    "1. Write a Python program to sum all the items in a list\n",
    "2. Write a Python program to get the largest number from a list."
   ]
  },
  {
   "cell_type": "markdown",
   "metadata": {},
   "source": [
    "## Tuples"
   ]
  },
  {
   "cell_type": "code",
   "execution_count": null,
   "metadata": {},
   "outputs": [],
   "source": [
    "# Tuples\n",
    "\n",
    "my_tup = (1, 2, 3, 4)\n",
    "my_tup"
   ]
  },
  {
   "cell_type": "code",
   "execution_count": null,
   "metadata": {},
   "outputs": [],
   "source": [
    "# Tuples are immutable, so they cannot change after its declaration\n",
    "\n",
    "# Should arise an error\n",
    "try:\n",
    "    my_tup.append(5)\n",
    "except Exception as e:\n",
    "    print(\"Error: {}\".format(e))\n"
   ]
  },
  {
   "cell_type": "code",
   "execution_count": null,
   "metadata": {},
   "outputs": [],
   "source": [
    "# Tuples are immutable, so they cannot change after its declaration\n",
    "\n",
    "# Should arise an error\n",
    "try:\n",
    "    my_tup[0] = 5\n",
    "except Exception as e:\n",
    "    print(\"Error: {}\".format(e))"
   ]
  },
  {
   "cell_type": "code",
   "execution_count": null,
   "metadata": {},
   "outputs": [],
   "source": [
    "# Tuples support other operations that can be used in list as well\n",
    "\n",
    "# Obtains the array size\n",
    "\n",
    "len_list = len(my_list)\n",
    "len_tup = len(my_tup)\n",
    "\n",
    "print(\"list: {}, tuple: {}\".format(my_list, my_tup))\n",
    "print(\"len of list: {}, len of tuple: {}\".format(len_list, len_tup))"
   ]
  },
  {
   "cell_type": "markdown",
   "metadata": {},
   "source": [
    "## Sets\n",
    "\n",
    "Sets are an array with unique elements. All sets are collections of non-ordered elements. Sets are immutable"
   ]
  },
  {
   "cell_type": "code",
   "execution_count": null,
   "metadata": {},
   "outputs": [],
   "source": [
    "# Sets\n",
    "\n",
    "my_set = set([1, 2, 3, 2, 5, 5, 3, 4])\n",
    "my_set"
   ]
  },
  {
   "cell_type": "code",
   "execution_count": null,
   "metadata": {},
   "outputs": [],
   "source": [
    "# Sets are immutable\n",
    "\n",
    "# Should rise an error\n",
    "try:\n",
    "    my_set[0] = 0\n",
    "except Exception as e:\n",
    "    print(\"Error: {}\".format(e))"
   ]
  },
  {
   "cell_type": "code",
   "execution_count": null,
   "metadata": {},
   "outputs": [],
   "source": [
    "# Sets are useful for collection operations\n",
    "\n",
    "collection_1 = [1, 2, 3, 4, 5, 6, 7]\n",
    "collection_2 = [2, 3, 8, 9, 10]\n",
    "\n",
    "set_1 = set(collection_1)\n",
    "set_2 = set(collection_2)\n",
    "\n",
    "print(\"set_1: {}, set_2: {}\".format(set_1, set_2))\n",
    "\n",
    "# Intersection (Numbers in both set_1 and set_2)\n",
    "\n",
    "intersection = set_1 & set_2\n",
    "print(\"intersection: {}\".format(intersection))\n",
    "\n",
    "# Union (unique numbers from both arrays)\n",
    "\n",
    "union = set_1 | set_2\n",
    "print(\"union: {}\".format(union))\n",
    "\n",
    "# Extract values from set_1 that are not in set_2\n",
    "\n",
    "extract = set_1 - set_2\n",
    "print(\"extract: {}\".format(extract))"
   ]
  },
  {
   "cell_type": "markdown",
   "metadata": {},
   "source": [
    "## Exercise\n",
    "\n",
    "1. Given the arrays:\n",
    "\n",
    "    ```\n",
    "    text_1 = \"primer texto\"\n",
    "    text_2 = \"segundo texto\"\n",
    "    ```\n",
    "\n",
    "    1. Extract the letters from text_2 that are not in text_1\n",
    "    2. Create a collection of the letters that are in both arrays.\n",
    "    3. Create a collection of all the letters from the arrays.\n",
    "\n",
    "\n",
    "2. Write a Python function that takes two lists and returns True if they have at least one common "
   ]
  },
  {
   "cell_type": "markdown",
   "metadata": {},
   "source": [
    "## Dictionaries"
   ]
  },
  {
   "cell_type": "code",
   "execution_count": null,
   "metadata": {},
   "outputs": [],
   "source": [
    "# Dictionaries\n",
    "\n",
    "# IMPORTANT: Keys cannot be repeated\n",
    "\n",
    "my_dict = {\"name\": \"Jose\", \"surname\": \"Garcia\", \"age\": 28}\n",
    "my_dict"
   ]
  },
  {
   "cell_type": "code",
   "execution_count": null,
   "metadata": {},
   "outputs": [],
   "source": [
    "# Retrieves the age\n",
    "\n",
    "age = my_dict[\"age\"]\n",
    "\n",
    "print(\"Age: {}\".format(age))\n",
    "\n",
    "# Another way\n",
    "\n",
    "age = my_dict.get(\"age\", None)\n",
    "print(\"Age retrieved using get: {}\".format(age))"
   ]
  },
  {
   "cell_type": "code",
   "execution_count": null,
   "metadata": {},
   "outputs": [],
   "source": [
    "# Obtains the lenght of the dic\n",
    "\n",
    "len_dict = len(my_dict)\n",
    "print(len_dict)"
   ]
  },
  {
   "cell_type": "code",
   "execution_count": null,
   "metadata": {},
   "outputs": [],
   "source": [
    "# Deletes a key\n",
    "\n",
    "print(\"dictionary before: {}\".format(my_dict))\n",
    "\n",
    "del my_dict[\"age\"]\n",
    "\n",
    "print(\"dictionary after deleting age: {}\".format(my_dict))"
   ]
  },
  {
   "cell_type": "code",
   "execution_count": null,
   "metadata": {},
   "outputs": [],
   "source": [
    "# Concatenating dictionaries\n",
    "\n",
    "dict_1 = {\"name\": \"Jose\", \"surname\": \"Garcia\"}\n",
    "dict_2 = {\"age\": 3}\n",
    "\n",
    "dict_3 = {**dict_1, **dict_2}\n",
    "\n",
    "print(dict_3)\n"
   ]
  },
  {
   "cell_type": "markdown",
   "metadata": {},
   "source": [
    "**Final Note:** you can use any of the available methods available for list with dictionaries as well\n",
    "\n",
    "## Exercises\n",
    "\n",
    "1. Write a Python script to add a key to a dictionary. \n",
    "\n",
    "    ```\n",
    "    Sample Dictionary : {0: 10, 1: 20}\n",
    "    Expected Result : {0: 10, 1: 20, 2: 30}\n",
    "    ```\n",
    "\n",
    "2. Write a Python script to concatenate following dictionaries to create a new one.\n",
    "\n",
    "    ```\n",
    "    Sample Dictionary :\n",
    "    dic1={1:10, 2:20}\n",
    "    dic2={3:30, 4:40}\n",
    "    dic3={5:50,6:60}\n",
    "    Expected Result : {1: 10, 2: 20, 3: 30, 4: 40, 5: 50, 6: 60}\n",
    "    ```\n",
    "\n",
    "3. Write a Python program to check a dictionary is empty or not."
   ]
  },
  {
   "cell_type": "code",
   "execution_count": null,
   "metadata": {},
   "outputs": [],
   "source": []
  }
 ],
 "metadata": {
  "kernelspec": {
   "display_name": "Python 3",
   "language": "python",
   "name": "python3"
  },
  "language_info": {
   "codemirror_mode": {
    "name": "ipython",
    "version": 3
   },
   "file_extension": ".py",
   "mimetype": "text/x-python",
   "name": "python",
   "nbconvert_exporter": "python",
   "pygments_lexer": "ipython3",
   "version": "3.6.6"
  }
 },
 "nbformat": 4,
 "nbformat_minor": 2
}
