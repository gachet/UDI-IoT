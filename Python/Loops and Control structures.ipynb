{
 "cells": [
  {
   "cell_type": "markdown",
   "metadata": {},
   "source": [
    "# Loops\n",
    "\n",
    "Loops is a basic statement in any programming language. Python supports the two typical loops:\n",
    "\n",
    "- for --> Loops in a pre-defined number of iterations\n",
    "- while --> Loops until a condition is reached\n"
   ]
  },
  {
   "cell_type": "markdown",
   "metadata": {},
   "source": [
    "# For"
   ]
  },
  {
   "cell_type": "code",
   "execution_count": 1,
   "metadata": {},
   "outputs": [
    {
     "name": "stdout",
     "output_type": "stream",
     "text": [
      "1\n",
      "2\n",
      "3\n",
      "4\n",
      "5\n",
      "6\n",
      "7\n",
      "8\n",
      "9\n",
      "10\n",
      "11\n",
      "12\n",
      "13\n",
      "14\n",
      "15\n",
      "16\n",
      "17\n",
      "18\n",
      "19\n"
     ]
    }
   ],
   "source": [
    "# For\n",
    "\n",
    "for i in range(1, 20):\n",
    "    print(i)"
   ]
  },
  {
   "cell_type": "code",
   "execution_count": 2,
   "metadata": {},
   "outputs": [
    {
     "name": "stdout",
     "output_type": "stream",
     "text": [
      "iteration number: 0, value: 1\n",
      "iteration number: 1, value: 2\n",
      "iteration number: 2, value: 2\n",
      "iteration number: 3, value: 4\n",
      "iteration number: 4, value: 8\n",
      "iteration number: 5, value: 16\n"
     ]
    }
   ],
   "source": [
    "# iterates a list to retrieve data\n",
    "\n",
    "my_list = [1, 2, 2, 4, 8, 16]\n",
    "\n",
    "for i in range(0, len(my_list)):\n",
    "    value = my_list[i]\n",
    "    print(\"iteration number: {}, value: {}\".format(i, value))"
   ]
  },
  {
   "cell_type": "code",
   "execution_count": 3,
   "metadata": {},
   "outputs": [
    {
     "name": "stdout",
     "output_type": "stream",
     "text": [
      "new list: [0, 0, 0, 0, 0, 0]\n"
     ]
    }
   ],
   "source": [
    "# Changes all the values from a list\n",
    "\n",
    "for i in range(0, len(my_list)):\n",
    "    my_list[i] = 0\n",
    "    \n",
    "print(\"new list: {}\".format(my_list))"
   ]
  },
  {
   "cell_type": "markdown",
   "metadata": {},
   "source": [
    "## While"
   ]
  },
  {
   "cell_type": "code",
   "execution_count": 6,
   "metadata": {},
   "outputs": [
    {
     "name": "stdout",
     "output_type": "stream",
     "text": [
      "iteration number: 0, value: 1\n",
      "iteration number: 1, value: 2\n",
      "iteration number: 2, value: 2\n",
      "iteration number: 3, value: 4\n",
      "iteration number: 4, value: 8\n",
      "iteration number: 5, value: 16\n"
     ]
    }
   ],
   "source": [
    "# while\n",
    "\n",
    "# iterates a list to retrieve data\n",
    "\n",
    "my_list = [1, 2, 2, 4, 8, 16]\n",
    "\n",
    "i = 0\n",
    "\n",
    "while i < len(my_list):\n",
    "    value = my_list[i]\n",
    "    print(\"iteration number: {}, value: {}\".format(i, value))\n",
    "    i += 1\n"
   ]
  },
  {
   "cell_type": "code",
   "execution_count": 8,
   "metadata": {},
   "outputs": [
    {
     "name": "stdout",
     "output_type": "stream",
     "text": [
      "new list: [0, 0, 0, 0, 0, 0]\n"
     ]
    }
   ],
   "source": [
    "# Changes all the values from a list\n",
    "\n",
    "i = 0\n",
    "while i < len(my_list):\n",
    "    my_list[i] = 0\n",
    "    i += 1\n",
    "    \n",
    "print(\"new list: {}\".format(my_list))"
   ]
  },
  {
   "cell_type": "markdown",
   "metadata": {},
   "source": [
    "# Conditionals and control structures\n",
    "\n",
    "One of the most important topics to any programmer, control structures allows your code to take decisions based on pre-set conditions. Python supports the below control and conditionals definitions:\n",
    "\n",
    "- if --> Evaluates the value of a variable\n",
    "- is --> Complements any if condition, _is_ is the conector to the conditional to evaluate a variable's value\n",
    "- else --> Complements any if condition, the else statement is executed if the previous _if_ does not reach the condition\n",
    "- Logic operators: <, >, <=, >=, ==, !=\n",
    "- in --> Mostly used when working with lists, allows to the programmer to know if a value is present inside a given list or tuple."
   ]
  },
  {
   "cell_type": "code",
   "execution_count": 10,
   "metadata": {},
   "outputs": [
    {
     "name": "stdout",
     "output_type": "stream",
     "text": [
      "text matchsh\n"
     ]
    }
   ],
   "source": [
    "text = \"this is a text\"\n",
    "if text == \"this is a text\":\n",
    "    print(\"text matches!\")"
   ]
  },
  {
   "cell_type": "code",
   "execution_count": 12,
   "metadata": {},
   "outputs": [
    {
     "name": "stdout",
     "output_type": "stream",
     "text": [
      "texts are different\n"
     ]
    }
   ],
   "source": [
    "text = \"this is a text\"\n",
    "if text == \"this text does not match\":\n",
    "    print(\"text matches!\")\n",
    "else:\n",
    "    print(\"texts are different\")"
   ]
  },
  {
   "cell_type": "code",
   "execution_count": 15,
   "metadata": {},
   "outputs": [
    {
     "name": "stdout",
     "output_type": "stream",
     "text": [
      "number 10 is not in range\n",
      "number 2 is in range\n",
      "number -1 is not in range\n"
     ]
    }
   ],
   "source": [
    "# Verifies if a number is between the range 1 < x < 5\n",
    "\n",
    "def is_in_range(my_num):\n",
    "    if my_num > 1 and my_num < 5:\n",
    "        print(\"number {} is in range\".format(my_num))\n",
    "    else:\n",
    "        print(\"number {} is not in range\".format(my_num))\n",
    "\n",
    "# Tests\n",
    "\n",
    "is_in_range(10)\n",
    "is_in_range(2)\n",
    "is_in_range(-1)\n",
    "    "
   ]
  },
  {
   "cell_type": "code",
   "execution_count": 9,
   "metadata": {},
   "outputs": [
    {
     "name": "stdout",
     "output_type": "stream",
     "text": [
      "iteration number: 1, value: 2\n",
      "iteration number: 3, value: 4\n",
      "iteration number: 5, value: 16\n"
     ]
    }
   ],
   "source": [
    "# iterates a list and prints values only if index is odd\n",
    "\n",
    "my_list = [1, 2, 2, 4, 8, 16]\n",
    "\n",
    "for i in range(0, len(my_list)):\n",
    "    value = my_list[i]\n",
    "    if i%2 > 0:\n",
    "        print(\"iteration number: {}, value: {}\".format(i, value))"
   ]
  },
  {
   "cell_type": "code",
   "execution_count": 16,
   "metadata": {},
   "outputs": [
    {
     "name": "stdout",
     "output_type": "stream",
     "text": [
      "number 5 is inside the list\n",
      "number 0 is not inside the list\n"
     ]
    }
   ],
   "source": [
    "# verifies if a number is in a list\n",
    "\n",
    "my_list = [1, 2, 3, 4, 5]\n",
    "\n",
    "def is_in_list(my_num):\n",
    "    if my_num in my_list:\n",
    "        print(\"number {} is inside the list\".format(my_num))\n",
    "    else:\n",
    "        print(\"number {} is not inside the list\".format(my_num))\n",
    "\n",
    "# Tests\n",
    "\n",
    "is_in_list(5)\n",
    "is_in_list(0)"
   ]
  },
  {
   "cell_type": "markdown",
   "metadata": {},
   "source": [
    "## Exercises\n",
    "\n",
    "1. Write a Python function that takes two lists and returns True if they have at least one common\n",
    "2. Write a Python program to print a specified list after removing the 0th, 4th and 5th elements.\n",
    "\n",
    "    ```\n",
    "    Sample List : ['Red', 'Green', 'White', 'Black', 'Pink', 'Yellow']\n",
    "    Expected Output : ['Green', 'White', 'Black']\n",
    "    ```\n",
    "3. Write a Python program to print the numbers of a specified list after removing even numbers\n",
    "4. **Challenge** Write a Python program to find those numbers which are divisible by 7 and multiple of 5, between 1500 and 2700 (both included)\n",
    "5. **Challenge** Write a Python program to construct the following pattern, using a nested for loop.\n",
    "\n",
    "o    \n",
    "o o   \n",
    "o o o  \n",
    "o o o o  \n",
    "o o o o o  \n",
    "o o o o  \n",
    "o o o  \n",
    "o o  \n",
    "o\n",
    "\n",
    "6. Write a Python program which takes two digits m (row) and n (column) as input and generates a two-dimensional array. The element value in the i-th row and j-th column of the array should be i*j. \n",
    "\n",
    "    ```\n",
    "    Note :\n",
    "    i = 0,1.., m-1\n",
    "    j = 0,1, n-1.\n",
    "\n",
    "    Test Data : Rows = 3, Columns = 4\n",
    "    Expected Result : [[0, 0, 0, 0], [0, 1, 2, 3], [0, 2, 4, 6]]\n",
    "    ```\n"
   ]
  },
  {
   "cell_type": "code",
   "execution_count": null,
   "metadata": {},
   "outputs": [],
   "source": []
  }
 ],
 "metadata": {
  "kernelspec": {
   "display_name": "Python 3",
   "language": "python",
   "name": "python3"
  },
  "language_info": {
   "codemirror_mode": {
    "name": "ipython",
    "version": 3
   },
   "file_extension": ".py",
   "mimetype": "text/x-python",
   "name": "python",
   "nbconvert_exporter": "python",
   "pygments_lexer": "ipython3",
   "version": "3.6.6"
  }
 },
 "nbformat": 4,
 "nbformat_minor": 2
}
