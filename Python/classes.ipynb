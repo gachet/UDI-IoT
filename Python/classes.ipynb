{
 "cells": [
  {
   "cell_type": "markdown",
   "metadata": {},
   "source": [
    "# Classes\n",
    "\n",
    "Python supports OOP, like other languages, with small variations. \n",
    "\n",
    "A class declarations in python is made as below:\n",
    "\n",
    "```py\n",
    "class ClassName:\n",
    "    def __init__(*args, **kwargs):\n",
    "        # Put here the code to initialize any instance\n",
    "        \n",
    "        _private_var_1 = 1\n",
    "        \n",
    "        public_var_1 = 2\n",
    "    \n",
    "    # Put here your methods\n",
    "    \n",
    "    def method_1(*args, **kwargs):\n",
    "        pass\n",
    "    \n",
    "    def method_1(*args, **kwargs):\n",
    "        pass\n",
    "```\n",
    "\n",
    "Let's see the typical car example class in python."
   ]
  },
  {
   "cell_type": "code",
   "execution_count": null,
   "metadata": {},
   "outputs": [],
   "source": [
    "class Car:\n",
    "    def __init__(self, color, model, brand, number_of_wheels=4):\n",
    "        self.color = color\n",
    "        self.number_of_wheels = number_of_wheels\n",
    "        self.brand = brand\n",
    "        self.model = model\n",
    "    \n",
    "    def get_wheels(self):\n",
    "        return self.number_of_wheels\n",
    "    \n",
    "    def get_color(self):\n",
    "        return self.color\n",
    "    \n",
    "    def change_color(self, color):\n",
    "        self.color = color\n",
    "        "
   ]
  },
  {
   "cell_type": "code",
   "execution_count": null,
   "metadata": {},
   "outputs": [],
   "source": [
    "# Create an object of type Car\n",
    "\n",
    "car_red = Car(\"red\", 2010, \"toyota\")\n",
    "car_red.get_color()"
   ]
  },
  {
   "cell_type": "code",
   "execution_count": null,
   "metadata": {},
   "outputs": [],
   "source": [
    "# Let's change the color of the car\n",
    "\n",
    "car_blue = car_red\n",
    "car_blue.change_color(\"blue\")\n",
    "car_blue.get_color()\n"
   ]
  },
  {
   "cell_type": "code",
   "execution_count": null,
   "metadata": {},
   "outputs": [],
   "source": [
    "car_red.get_color()"
   ]
  },
  {
   "cell_type": "markdown",
   "metadata": {},
   "source": [
    "## Question\n",
    "Why the car_red color is now blue??"
   ]
  },
  {
   "cell_type": "code",
   "execution_count": 1,
   "metadata": {},
   "outputs": [
    {
     "ename": "NameError",
     "evalue": "name 'Car' is not defined",
     "output_type": "error",
     "traceback": [
      "\u001b[0;31m---------------------------------------------------------------------------\u001b[0m",
      "\u001b[0;31mNameError\u001b[0m                                 Traceback (most recent call last)",
      "\u001b[0;32m<ipython-input-1-9642026d5586>\u001b[0m in \u001b[0;36m<module>\u001b[0;34m\u001b[0m\n\u001b[1;32m      1\u001b[0m \u001b[0;31m# Let's create a new car blue\u001b[0m\u001b[0;34m\u001b[0m\u001b[0;34m\u001b[0m\u001b[0;34m\u001b[0m\u001b[0m\n\u001b[1;32m      2\u001b[0m \u001b[0;34m\u001b[0m\u001b[0m\n\u001b[0;32m----> 3\u001b[0;31m \u001b[0mcar_blue\u001b[0m \u001b[0;34m=\u001b[0m \u001b[0mCar\u001b[0m\u001b[0;34m(\u001b[0m\u001b[0;34m\"red\"\u001b[0m\u001b[0;34m,\u001b[0m \u001b[0;36m2010\u001b[0m\u001b[0;34m,\u001b[0m \u001b[0;34m\"toyota\"\u001b[0m\u001b[0;34m)\u001b[0m\u001b[0;34m\u001b[0m\u001b[0;34m\u001b[0m\u001b[0m\n\u001b[0m\u001b[1;32m      4\u001b[0m \u001b[0;34m\u001b[0m\u001b[0m\n\u001b[1;32m      5\u001b[0m \u001b[0mprint\u001b[0m\u001b[0;34m(\u001b[0m\u001b[0;34m\"Before:\"\u001b[0m\u001b[0;34m)\u001b[0m\u001b[0;34m\u001b[0m\u001b[0;34m\u001b[0m\u001b[0m\n",
      "\u001b[0;31mNameError\u001b[0m: name 'Car' is not defined"
     ]
    }
   ],
   "source": [
    "# Let's create a new car blue\n",
    "\n",
    "car_blue = Car(\"red\", 2010, \"toyota\")\n",
    "\n",
    "print(\"Before:\")\n",
    "car_blue.color\n",
    "\n"
   ]
  },
  {
   "cell_type": "code",
   "execution_count": null,
   "metadata": {},
   "outputs": [],
   "source": [
    "# Let's change the color\n",
    "\n",
    "print(\"After:\")\n",
    "car_blue.change_color(\"blue\")\n",
    "car_blue.get_color()"
   ]
  },
  {
   "cell_type": "markdown",
   "metadata": {},
   "source": [
    "# Examples\n",
    "\n",
    "1. Write a Python class to reverse a string word by word\n"
   ]
  },
  {
   "cell_type": "code",
   "execution_count": 2,
   "metadata": {},
   "outputs": [
    {
     "data": {
      "text/plain": [
       "'!ereht olleH'"
      ]
     },
     "execution_count": 2,
     "metadata": {},
     "output_type": "execute_result"
    }
   ],
   "source": [
    "# Solution 1\n",
    "class Reverse:\n",
    "    def __init__(self, word):\n",
    "        self.word = word\n",
    "    \n",
    "    def reverse(self):\n",
    "        reversed_word = \"\"\n",
    "        for w in range(0, len(self.word)):\n",
    "            index = len(self.word) - w - 1\n",
    "            reversed_word = \"{}{}\".format(reversed_word, self.word[index])\n",
    "        return reversed_word\n",
    "\n",
    "to_reverse = Reverse(\"Hello there!\")\n",
    "to_reverse.reverse()"
   ]
  },
  {
   "cell_type": "code",
   "execution_count": 6,
   "metadata": {},
   "outputs": [
    {
     "data": {
      "text/plain": [
       "'!ereht olleH'"
      ]
     },
     "execution_count": 6,
     "metadata": {},
     "output_type": "execute_result"
    }
   ],
   "source": [
    "# Solution 2\n",
    "\n",
    "class Reverse_2:\n",
    "    def __init__(self, word):\n",
    "        self.word = word\n",
    "    \n",
    "    def reverse(self):\n",
    "        return  self.word[::-1]\n",
    "\n",
    "to_reverse_2 = Reverse_2(\"Hello there!\")\n",
    "to_reverse_2.reverse()"
   ]
  },
  {
   "cell_type": "markdown",
   "metadata": {},
   "source": [
    "# Exercise\n",
    "\n",
    "1. Write a Python class which has two methods get_String and print_String. get_String accept a string from the user and print_String print the string in upper case\n",
    "\n",
    "2. Write a Python class named Rectangle constructed by a length and width and a method which will compute the area of a rectangle."
   ]
  },
  {
   "cell_type": "code",
   "execution_count": null,
   "metadata": {},
   "outputs": [],
   "source": []
  }
 ],
 "metadata": {
  "kernelspec": {
   "display_name": "Python 3",
   "language": "python",
   "name": "python3"
  },
  "language_info": {
   "codemirror_mode": {
    "name": "ipython",
    "version": 3
   },
   "file_extension": ".py",
   "mimetype": "text/x-python",
   "name": "python",
   "nbconvert_exporter": "python",
   "pygments_lexer": "ipython3",
   "version": "3.6.6"
  }
 },
 "nbformat": 4,
 "nbformat_minor": 2
}
