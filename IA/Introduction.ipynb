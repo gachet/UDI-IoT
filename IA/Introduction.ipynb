{
 "cells": [
  {
   "cell_type": "markdown",
   "metadata": {},
   "source": [
    "# Artificial Inteligence\n",
    "\n",
    "**Brainstorm**\n",
    "How do you define what Artificial Inteligence, AI, is?\n",
    "\n",
    "**Turing Test:**\n",
    "\n",
    "Originally published at _Computing machinery and intelligence_, Alan Turing argued that if a machine can act like a human being, then, we can say that it is smart/intelligent. Turing proposed a test: A human being will begin a communication through a computing terminal with an entity in a room next to him; the entity would be another human or a machine. If, after a conversation, the human being is not able to differentiate if the entity is a machine or another person, then, we can consider that machine as smart/intelligent.\n",
    "\n",
    "<img src=\"turing-test.png\">"
   ]
  },
  {
   "cell_type": "markdown",
   "metadata": {},
   "source": [
    "A lot of time has passed since Turing wrote his test, but actually it is considered that if a machine must pass the test it must have the below abilities:\n",
    "\n",
    "- Natural Language Processing, NLP: Ability  to recognize human language. This field has a lot of applications, including automatic traduction or guidance.\n",
    "\n",
    "- Reasoning: Based on some inputs, the machine should be able to infer different conclusions related with those inputs and its environment. For example, if it is raining, we as humans have as input water falling as drops, but we conclude that the floor should be wet, that the road may be dangerous for the cars, etc\n",
    "\n",
    "- Learning: The machine should be able to learn new things from its own experience/inputs. Actually, some methods like bayesian networks  attempts to simulate the generalization needed to learn.\n",
    "\n",
    "- Knowledge representation: One of the hardest IA fields, how do you represent the knowledge and store it? Actually, the knowledge representation is stored as a series of matrixes inside what is called AI model."
   ]
  },
  {
   "cell_type": "markdown",
   "metadata": {},
   "source": [
    "## Other Interpretations\n",
    "\n",
    "there are also another interpretation about what a smart machine should do, let's see them:\n",
    "\n",
    "- A machine is smart if it acts as human:\n",
    "\n",
    "    Seems to be the same exposed by Turing, but there is a huge difference: To act as a human being does not mean that the machine should use/implement the same mental process that happens in the human brain. This interpration aims to search new ways to mimic human thinkering, but looking for its own path to arrive to the same conclusions that a human will retrieve from different inputs.\n",
    "    \n",
    "- Rational model:\n",
    "\n",
    "    Based on agents, the acts from a smart agent should be based on reasoning and the conclusions obtained from the information that the agent posseses. Theses agents will take a decisition based in the information that every one of them has.\n",
    "    \n",
    "Finally, there is not a consense in what IA means exactly, and actually this field is still in a experimental age, but with the tools that we already have there are a lot of applications to develop! So let's consider, for this short course, that IA is a compend of algorithms and techniques to solve problems that requires a considerable intelligence grade."
   ]
  },
  {
   "cell_type": "markdown",
   "metadata": {},
   "source": [
    "# Problem\n",
    "\n",
    "What is a problem?\n",
    "\n",
    "A problem is a case/situation hard to solve, which means, that its solution is not trivial. Let's review an example\n",
    "\n",
    "1. Juan has 5 candies, on his home way he loses one that falls from his pocket. When he arrives to his neighborhood, he loses 2 more candies when he went up through some stairs. Finally, when he arrives to home, he finds 3 candies forgotten by Victor in the main table, How many candies does Juan have?\n",
    "\n",
    "2. Sort  by descent this number list: 3,6,1,3,9,4,2\n",
    "\n"
   ]
  },
  {
   "cell_type": "markdown",
   "metadata": {},
   "source": [
    "# Solving problems\n",
    "\n",
    "Let's review the first problem, you will notice easily that the problem can be solved with a simple math operation:\n",
    "\n",
    "` candies = 5-1-1+3 = 5`\n",
    "\n",
    "Once the problem is reduced to a math operation, you just need to use a tool that you know since your chilhood: Math operations.\n",
    "\n",
    "Now, the second problem may be solved without the need to use math operations, probably you just can compare the numbers by pairs to sort them. In any case, you can notice that you brain has to a set of single operations.\n",
    "\n",
    "Notice too, that you brain has ommited a lot of useless information to solve the problems, like the candies size or colors, so the mental model remains as simple as possible."
   ]
  },
  {
   "cell_type": "markdown",
   "metadata": {},
   "source": [
    "# More complex Problems\n",
    "\n",
    "There are also more complex problems, let's review a typical one: The traveler problem. If you have traveled long distances by airplane, you wish to go directly to your destination with the less stop-off, so let's propose the problem as follows:\n",
    "\n",
    "_Given both origin and destination cities, find the flight mix that allows us to make the travel with the less transshipment number. Ommit other stuff like fly time, distances, etc_\n",
    "\n",
    "<img src=\"traveler-problem.png\">"
   ]
  },
  {
   "cell_type": "markdown",
   "metadata": {},
   "source": [
    "What's the best routo to go from H to C? We would choose many options:\n",
    "\n",
    "- H --> F --> C\n",
    "- H --> B --> C\n",
    "- H --> A --> C\n",
    "- H --> D --> B --> C\n",
    "\n",
    "There are at least three options that fits our initial criteria, so what should we give as answer? Probably an additional quality criteria should be added, like the amount of distance to cover. Taking this new criteria, the best options is `H--> B --> C`\n",
    "\n",
    "## Defining a problem and its solution\n",
    "\n",
    "From the above examples, we can conclude that any problem to be solved must be aborded as follows:\n",
    "\n",
    "1. Create a simplified model to solve it: Reduce your problem to simple operations.\n",
    "2. Define an objetive: What do we look? When should we consider the problem as solved?\n",
    "3. Define a criteria to evaluate the solution: Define a way to evaluate the possible solution to return the best of them."
   ]
  },
  {
   "cell_type": "code",
   "execution_count": null,
   "metadata": {},
   "outputs": [],
   "source": []
  }
 ],
 "metadata": {
  "kernelspec": {
   "display_name": "Python 3",
   "language": "python",
   "name": "python3"
  },
  "language_info": {
   "codemirror_mode": {
    "name": "ipython",
    "version": 3
   },
   "file_extension": ".py",
   "mimetype": "text/x-python",
   "name": "python",
   "nbconvert_exporter": "python",
   "pygments_lexer": "ipython3",
   "version": "3.6.6"
  }
 },
 "nbformat": 4,
 "nbformat_minor": 2
}
